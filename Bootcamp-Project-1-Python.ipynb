{
 "cells": [
  {
   "cell_type": "markdown",
   "id": "cf7ff89b",
   "metadata": {},
   "source": [
    "# Bootcamp project 1 python\n",
    "## Game: Rock, Paper, Scissors!\n",
    "\n",
    "### References used :\n",
    "- [Dataquest.](https://www.dataquest.io/blog/python-projects-for-beginners/)\n",
    "- [PYnative.](https://pynative.com/python-random-choice/)\n",
    "- [Geeksforgeeks.](https://www.geeksforgeeks.org/how-to-use-if-else-elif-in-python-lambda-functions/)\n",
    "- [Stackoverflow.](https://stackoverflow.com/questions/9264763/why-does-this-unboundlocalerror-occur-closure)"
   ]
  },
  {
   "cell_type": "code",
   "execution_count": 24,
   "id": "5a9187c5",
   "metadata": {},
   "outputs": [],
   "source": [
    "import random "
   ]
  },
  {
   "cell_type": "code",
   "execution_count": 25,
   "id": "cac120b2",
   "metadata": {},
   "outputs": [
    {
     "name": "stdout",
     "output_type": "stream",
     "text": [
      "User : Enter (Rock or Paper or Scissors) :Paper\n",
      "Computer : Enter (Rock or Paper or Scissors) :Rock\n",
      "user is winner\n",
      "User : Enter (Rock or Paper or Scissors) :Rock\n",
      "Computer : Enter (Rock or Paper or Scissors) :Scissors\n",
      "user is winner\n",
      "User : Enter (Rock or Paper or Scissors) :Scissors\n",
      "Computer : Enter (Rock or Paper or Scissors) :Rock\n",
      "computer is winner\n",
      "The final winner is User\n"
     ]
    }
   ],
   "source": [
    "#number of attempts\n",
    "count=0\n",
    "#number of Scores for computer and user\n",
    "Uscore=0\n",
    "Cscore=0\n",
    "#while loop 3 attempts \n",
    "while(count<3):\n",
    "#while loop if user and computer have same input\n",
    "    compare=True\n",
    "    while (compare==True): \n",
    "        user = input(\"User : Enter (Rock or Paper or Scissors) :\" )\n",
    "        game =[\"Rock\",\"Paper\",\"Scissors\"]\n",
    "        computer = random.choice(game)\n",
    "        print (\"Computer : Enter (Rock or Paper or Scissors) :{}\".format(computer))\n",
    "        compare = (computer==user)\n",
    "        if (compare==True):\n",
    "            print(\"Same input!\")\n",
    "\n",
    "\n",
    "\n",
    "    def RPSGame(u,c):\n",
    "        global Uscore\n",
    "        global Cscore\n",
    "        if u==\"Rock\" and c==\"Paper\":\n",
    "            Cscore+=1\n",
    "            print (\"computer is winner\")\n",
    "        elif u==\"Paper\" and c==\"Rock\":\n",
    "            Uscore+=1\n",
    "            print (\"user is winner\")\n",
    "        elif u==\"Paper\" and c==\"Scissors\":\n",
    "            Cscore+=1\n",
    "            print (\"computer is winner\")\n",
    "        elif u==\"Scissors\" and c==\"Paper\":\n",
    "            Uscore+=1\n",
    "            print (\"user is winner\")\n",
    "        elif u==\"Rock\" and c==\"Scissors\":\n",
    "            Uscore+=1\n",
    "            print (\"user is winner\")\n",
    "        elif u==\"Scissors\" and c==\"Rock\":\n",
    "            Cscore+=1\n",
    "            print (\"computer is winner\")\n",
    "\n",
    "    RPSGame(user,computer)\n",
    "    count+=1\n",
    "    \n",
    "result = lambda c,u : \"The final winner is User\" if c < u else \"The final winner is Computer\" \n",
    "\n",
    "print(result(Cscore, Uscore))\n"
   ]
  },
  {
   "cell_type": "code",
   "execution_count": null,
   "id": "e0cd8d59",
   "metadata": {},
   "outputs": [],
   "source": []
  }
 ],
 "metadata": {
  "kernelspec": {
   "display_name": "Python 3 (ipykernel)",
   "language": "python",
   "name": "python3"
  },
  "language_info": {
   "codemirror_mode": {
    "name": "ipython",
    "version": 3
   },
   "file_extension": ".py",
   "mimetype": "text/x-python",
   "name": "python",
   "nbconvert_exporter": "python",
   "pygments_lexer": "ipython3",
   "version": "3.10.9"
  }
 },
 "nbformat": 4,
 "nbformat_minor": 5
}
